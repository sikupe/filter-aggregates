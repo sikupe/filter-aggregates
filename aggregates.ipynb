{
 "cells": [
  {
   "cell_type": "code",
   "execution_count": 9,
   "id": "77d55cb7491c8c96",
   "metadata": {
    "collapsed": true,
    "ExecuteTime": {
     "end_time": "2023-08-29T15:34:46.956882129Z",
     "start_time": "2023-08-29T15:34:46.915646916Z"
    }
   },
   "outputs": [],
   "source": [
    "image_path = \"ex.tif\" # Path to the tif image\n",
    "threshold = 1 # threshold (inclusive) for detection of a protein"
   ]
  },
  {
   "cell_type": "code",
   "execution_count": 10,
   "outputs": [],
   "source": [
    "import cv2\n",
    "import numpy as np\n",
    "from scipy.signal import convolve2d\n",
    "from PIL import Image"
   ],
   "metadata": {
    "collapsed": false,
    "ExecuteTime": {
     "end_time": "2023-08-29T15:34:46.957326997Z",
     "start_time": "2023-08-29T15:34:46.956590035Z"
    }
   },
   "id": "initial_id"
  },
  {
   "cell_type": "code",
   "execution_count": 11,
   "outputs": [
    {
     "data": {
      "text/plain": "array([[0, 0, 0, ..., 0, 0, 0],\n       [0, 0, 0, ..., 0, 0, 0],\n       [0, 0, 0, ..., 1, 0, 0],\n       ...,\n       [0, 0, 1, ..., 0, 0, 0],\n       [0, 0, 0, ..., 0, 1, 0],\n       [0, 0, 0, ..., 0, 0, 0]], dtype=uint8)"
     },
     "execution_count": 11,
     "metadata": {},
     "output_type": "execute_result"
    }
   ],
   "source": [
    "# Test image\n",
    "# image = np.array([\n",
    "#     [0, 1, 1, 0, 0, 0, 0],\n",
    "#     [0, 1, 0, 0, 0, 0, 1],\n",
    "#     [0, 0, 0, 0, 0, 0, 0],\n",
    "#     [0, 1, 0, 0, 0, 0, 0],\n",
    "#     [1, 1, 0, 0, 0, 1, 0],\n",
    "# ], dtype=np.uint8)\n",
    "\n",
    "# Reading image\n",
    "image = Image.open('ex.tif')\n",
    "image = np.array(image)\n",
    "orig_image = image.copy()\n",
    "image = image >= threshold\n",
    "image = image.astype(np.uint8)\n",
    "image"
   ],
   "metadata": {
    "collapsed": false,
    "ExecuteTime": {
     "end_time": "2023-08-29T15:34:46.958422598Z",
     "start_time": "2023-08-29T15:34:46.957098372Z"
    }
   },
   "id": "ca794f6b93ce1566"
  },
  {
   "cell_type": "code",
   "execution_count": 12,
   "outputs": [],
   "source": [
    "# Defining the kernels\n",
    "# The open close kernel\n",
    "growing_kernel = np.array([\n",
    "    [1, 1, 1],\n",
    "    [1, 1, 1],\n",
    "    [1, 1, 1],\n",
    "], dtype=np.uint8)\n",
    "\n",
    "# Kernel for detecting aggregates\n",
    "aggregation_kernel = np.array([\n",
    "    [1, 1, 1],\n",
    "    [1, 0, 1],\n",
    "    [1, 1, 1],\n",
    "], dtype=np.uint8)"
   ],
   "metadata": {
    "collapsed": false,
    "ExecuteTime": {
     "end_time": "2023-08-29T15:34:46.958948829Z",
     "start_time": "2023-08-29T15:34:46.957521420Z"
    }
   },
   "id": "6e3021b99b311d7f"
  },
  {
   "cell_type": "code",
   "execution_count": 13,
   "outputs": [
    {
     "data": {
      "text/plain": "array([[0, 0, 0, ..., 0, 0, 0],\n       [0, 0, 0, ..., 0, 0, 0],\n       [0, 0, 0, ..., 0, 0, 0],\n       ...,\n       [0, 0, 0, ..., 1, 1, 1],\n       [0, 0, 0, ..., 1, 1, 1],\n       [0, 0, 0, ..., 1, 1, 1]], dtype=uint8)"
     },
     "execution_count": 13,
     "metadata": {},
     "output_type": "execute_result"
    }
   ],
   "source": [
    "# Closing for filling gaps\n",
    "closed = cv2.morphologyEx(image, cv2.MORPH_CLOSE, growing_kernel)\n",
    "\n",
    "# Opening in order not to have a extended region more than the closed gaps\n",
    "opened = cv2.morphologyEx(closed, cv2.MORPH_OPEN, growing_kernel)\n",
    "\n",
    "\n",
    "opened"
   ],
   "metadata": {
    "collapsed": false,
    "ExecuteTime": {
     "end_time": "2023-08-29T15:34:46.959696742Z",
     "start_time": "2023-08-29T15:34:46.957806270Z"
    }
   },
   "id": "2b80d878ce479730"
  },
  {
   "cell_type": "code",
   "execution_count": 14,
   "outputs": [
    {
     "data": {
      "text/plain": "array([[0, 0, 1, ..., 0, 0, 0],\n       [0, 0, 1, ..., 1, 1, 0],\n       [0, 0, 1, ..., 0, 1, 1],\n       ...,\n       [0, 1, 1, ..., 1, 1, 1],\n       [0, 1, 1, ..., 1, 0, 1],\n       [0, 0, 1, ..., 1, 1, 1]], dtype=uint8)"
     },
     "execution_count": 14,
     "metadata": {},
     "output_type": "execute_result"
    }
   ],
   "source": [
    "# Detecting the aggregates\n",
    "aggregates = convolve2d(image, aggregation_kernel)\n",
    "\n",
    "aggregates = aggregates >= 1\n",
    "\n",
    "aggregates = aggregates[1:-1, 1:-1]\n",
    "\n",
    "aggregates.astype(np.uint8)"
   ],
   "metadata": {
    "collapsed": false,
    "ExecuteTime": {
     "end_time": "2023-08-29T15:34:46.960629469Z",
     "start_time": "2023-08-29T15:34:46.958094908Z"
    }
   },
   "id": "68a705e0e37fd0da"
  },
  {
   "cell_type": "code",
   "execution_count": 15,
   "outputs": [
    {
     "data": {
      "text/plain": "array([[0., 0., 0., ..., 0., 0., 0.],\n       [0., 0., 0., ..., 0., 0., 0.],\n       [0., 0., 0., ..., 1., 0., 0.],\n       ...,\n       [0., 0., 0., ..., 0., 0., 0.],\n       [0., 0., 0., ..., 0., 1., 0.],\n       [0., 0., 0., ..., 0., 0., 0.]], dtype=float32)"
     },
     "execution_count": 15,
     "metadata": {},
     "output_type": "execute_result"
    }
   ],
   "source": [
    "# Removing aggregates\n",
    "filtered_image = orig_image.copy()\n",
    "filtered_image[aggregates] = 0\n",
    "\n",
    "filtered_image"
   ],
   "metadata": {
    "collapsed": false,
    "ExecuteTime": {
     "end_time": "2023-08-29T15:34:46.961411646Z",
     "start_time": "2023-08-29T15:34:46.958619215Z"
    }
   },
   "id": "f268a12ad704bca3"
  },
  {
   "cell_type": "code",
   "execution_count": 16,
   "outputs": [
    {
     "data": {
      "text/plain": "4.0"
     },
     "execution_count": 16,
     "metadata": {},
     "output_type": "execute_result"
    }
   ],
   "source": [
    "np.max(filtered_image)"
   ],
   "metadata": {
    "collapsed": false,
    "ExecuteTime": {
     "end_time": "2023-08-29T15:34:46.967533410Z",
     "start_time": "2023-08-29T15:34:46.959111011Z"
    }
   },
   "id": "3dcf8e57833957f7"
  }
 ],
 "metadata": {
  "kernelspec": {
   "display_name": "Python 3",
   "language": "python",
   "name": "python3"
  },
  "language_info": {
   "codemirror_mode": {
    "name": "ipython",
    "version": 2
   },
   "file_extension": ".py",
   "mimetype": "text/x-python",
   "name": "python",
   "nbconvert_exporter": "python",
   "pygments_lexer": "ipython2",
   "version": "2.7.6"
  }
 },
 "nbformat": 4,
 "nbformat_minor": 5
}
