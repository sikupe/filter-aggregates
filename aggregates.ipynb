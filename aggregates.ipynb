{
 "cells": [
  {
   "cell_type": "code",
   "execution_count": 132,
   "id": "77d55cb7491c8c96",
   "metadata": {
    "collapsed": true,
    "ExecuteTime": {
     "end_time": "2023-08-29T14:02:27.020258767Z",
     "start_time": "2023-08-29T14:02:26.978928944Z"
    }
   },
   "outputs": [],
   "source": [
    "image_path = \"ex.tif\" # Path to the tif image\n",
    "threshold = 1 # threshold (inclusive) for detection of a protein"
   ]
  },
  {
   "cell_type": "code",
   "execution_count": 133,
   "outputs": [],
   "source": [
    "import cv2\n",
    "import numpy as np\n",
    "from scipy.signal import convolve2d\n",
    "from PIL import Image"
   ],
   "metadata": {
    "collapsed": false,
    "ExecuteTime": {
     "end_time": "2023-08-29T14:02:27.020494880Z",
     "start_time": "2023-08-29T14:02:27.020153830Z"
    }
   },
   "id": "initial_id"
  },
  {
   "cell_type": "code",
   "execution_count": 134,
   "outputs": [
    {
     "data": {
      "text/plain": "array([[0, 0, 0, ..., 0, 0, 0],\n       [0, 0, 0, ..., 0, 0, 0],\n       [0, 0, 0, ..., 1, 0, 0],\n       ...,\n       [0, 0, 1, ..., 0, 0, 0],\n       [0, 0, 0, ..., 0, 1, 0],\n       [0, 0, 0, ..., 0, 0, 0]], dtype=uint8)"
     },
     "execution_count": 134,
     "metadata": {},
     "output_type": "execute_result"
    }
   ],
   "source": [
    "# Test image\n",
    "# image = np.array([\n",
    "#     [0, 1, 1, 0, 0, 0, 0],\n",
    "#     [0, 1, 0, 0, 0, 0, 1],\n",
    "#     [0, 0, 0, 0, 0, 0, 0],\n",
    "#     [0, 1, 0, 0, 0, 0, 0],\n",
    "#     [1, 1, 0, 0, 0, 1, 0],\n",
    "# ], dtype=np.uint8)\n",
    "\n",
    "# Reading image\n",
    "image = Image.open('ex.tif')\n",
    "image = np.array(image)\n",
    "image = image >= threshold\n",
    "image = image.astype(np.uint8)\n",
    "image"
   ],
   "metadata": {
    "collapsed": false,
    "ExecuteTime": {
     "end_time": "2023-08-29T14:02:27.020980673Z",
     "start_time": "2023-08-29T14:02:27.020379764Z"
    }
   },
   "id": "ca794f6b93ce1566"
  },
  {
   "cell_type": "code",
   "execution_count": 135,
   "outputs": [],
   "source": [
    "# Defining the kernels\n",
    "# The open close kernel\n",
    "growing_kernel = np.array([\n",
    "    [1, 1, 1],\n",
    "    [1, 1, 1],\n",
    "    [1, 1, 1],\n",
    "], dtype=np.uint8)\n",
    "\n",
    "# Kernel for detecting aggregates\n",
    "aggregation_kernel = np.array([\n",
    "    [1, 1, 1],\n",
    "    [1, 0, 1],\n",
    "    [1, 1, 1],\n",
    "], dtype=np.uint8)"
   ],
   "metadata": {
    "collapsed": false,
    "ExecuteTime": {
     "end_time": "2023-08-29T14:02:27.021068167Z",
     "start_time": "2023-08-29T14:02:27.020458863Z"
    }
   },
   "id": "6e3021b99b311d7f"
  },
  {
   "cell_type": "code",
   "execution_count": 136,
   "outputs": [
    {
     "data": {
      "text/plain": "array([[0, 0, 0, ..., 0, 0, 0],\n       [0, 0, 0, ..., 0, 0, 0],\n       [0, 0, 0, ..., 0, 0, 0],\n       ...,\n       [0, 0, 0, ..., 1, 1, 1],\n       [0, 0, 0, ..., 1, 1, 1],\n       [0, 0, 0, ..., 1, 1, 1]], dtype=uint8)"
     },
     "execution_count": 136,
     "metadata": {},
     "output_type": "execute_result"
    }
   ],
   "source": [
    "# Closing for filling gaps\n",
    "closed = cv2.morphologyEx(image, cv2.MORPH_CLOSE, growing_kernel)\n",
    "\n",
    "# Opening in order not to have a extended region more than the closed gaps\n",
    "opened = cv2.morphologyEx(closed, cv2.MORPH_OPEN, growing_kernel)\n",
    "\n",
    "\n",
    "opened"
   ],
   "metadata": {
    "collapsed": false,
    "ExecuteTime": {
     "end_time": "2023-08-29T14:02:27.021297809Z",
     "start_time": "2023-08-29T14:02:27.020548702Z"
    }
   },
   "id": "2b80d878ce479730"
  },
  {
   "cell_type": "code",
   "execution_count": 137,
   "outputs": [
    {
     "data": {
      "text/plain": "array([[0, 0, 1, ..., 0, 0, 0],\n       [0, 0, 1, ..., 0, 0, 0],\n       [0, 0, 1, ..., 1, 1, 1],\n       ...,\n       [0, 0, 1, ..., 1, 1, 1],\n       [0, 0, 1, ..., 1, 1, 1],\n       [0, 0, 1, ..., 1, 1, 1]], dtype=uint8)"
     },
     "execution_count": 137,
     "metadata": {},
     "output_type": "execute_result"
    }
   ],
   "source": [
    "# Detecting the aggregates\n",
    "aggregates = convolve2d(opened, aggregation_kernel)\n",
    "\n",
    "aggregates = aggregates >= 1\n",
    "\n",
    "aggregates = aggregates[1:-1, 1:-1]\n",
    "\n",
    "aggregates.astype(np.uint8)"
   ],
   "metadata": {
    "collapsed": false,
    "ExecuteTime": {
     "end_time": "2023-08-29T14:02:27.021444274Z",
     "start_time": "2023-08-29T14:02:27.020616228Z"
    }
   },
   "id": "68a705e0e37fd0da"
  },
  {
   "cell_type": "code",
   "execution_count": 138,
   "outputs": [
    {
     "data": {
      "text/plain": "array([[0, 0, 0, ..., 0, 0, 0],\n       [0, 0, 0, ..., 0, 0, 0],\n       [0, 0, 0, ..., 0, 0, 0],\n       ...,\n       [0, 0, 0, ..., 0, 0, 0],\n       [0, 0, 0, ..., 0, 0, 0],\n       [0, 0, 0, ..., 0, 0, 0]], dtype=uint8)"
     },
     "execution_count": 138,
     "metadata": {},
     "output_type": "execute_result"
    }
   ],
   "source": [
    "# Removing aggregates\n",
    "image[aggregates] = 0\n",
    "\n",
    "image"
   ],
   "metadata": {
    "collapsed": false,
    "ExecuteTime": {
     "end_time": "2023-08-29T14:02:27.021705585Z",
     "start_time": "2023-08-29T14:02:27.020712619Z"
    }
   },
   "id": "f268a12ad704bca3"
  }
 ],
 "metadata": {
  "kernelspec": {
   "display_name": "Python 3",
   "language": "python",
   "name": "python3"
  },
  "language_info": {
   "codemirror_mode": {
    "name": "ipython",
    "version": 2
   },
   "file_extension": ".py",
   "mimetype": "text/x-python",
   "name": "python",
   "nbconvert_exporter": "python",
   "pygments_lexer": "ipython2",
   "version": "2.7.6"
  }
 },
 "nbformat": 4,
 "nbformat_minor": 5
}
